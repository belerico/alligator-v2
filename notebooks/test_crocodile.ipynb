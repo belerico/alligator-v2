{
 "cells": [
  {
   "cell_type": "code",
   "execution_count": null,
   "metadata": {},
   "outputs": [],
   "source": [
    "import os\n",
    "import time\n",
    "\n",
    "import IPython\n",
    "from pymongo import MongoClient\n",
    "\n",
    "from alligator import Alligator\n",
    "\n",
    "IPython.display.clear_output(wait=True)\n",
    "\n",
    "# Load the CSV file into a DataFrame\n",
    "file_path = \"./tables/imdb_top_100.csv\"\n",
    "\n",
    "# MongoDB connection\n",
    "client = MongoClient(\"mongodb://gator-mongodb:27017/\")\n",
    "# Drop the entire crocodile_db database\n",
    "# client.drop_database(\"crocodile_db\")\n",
    "db = client[\"alligator_db\"]\n",
    "\n",
    "# Drop all collections except 'bow_cache' and 'candidate_cache'\n",
    "collections_to_keep = [\"bow_cache\", \"literal_cache\", \"object_cache\"]\n",
    "all_collections = db.list_collection_names()\n",
    "\n",
    "for collection in all_collections:\n",
    "    if collection not in collections_to_keep:\n",
    "        db[collection].drop()\n",
    "        print(f\"Dropped collection: {collection}\")\n",
    "\n",
    "print(\"All unwanted collections have been dropped.\")\n",
    "\n",
    "# Create an instance of the Alligator class\n",
    "gator = Alligator(\n",
    "    input_csv=file_path,\n",
    "    entity_retrieval_endpoint=os.environ[\"ENTITY_RETRIEVAL_ENDPOINT\"],\n",
    "    entity_retrieval_token=os.environ[\"ENTITY_RETRIEVAL_TOKEN\"],\n",
    "    object_retrieval_endpoint=os.environ[\"OBJECT_RETRIEVAL_ENDPOINT\"],\n",
    "    literal_retrieval_endpoint=os.environ[\"LITERAL_RETRIEVAL_ENDPOINT\"],\n",
    "    max_workers=1,\n",
    "    candidate_retrieval_limit=10,\n",
    "    max_candidates_in_result=3,\n",
    "    batch_size=256,\n",
    "    columns_type={\n",
    "        \"NE\": {\"0\": \"OTHER\", \"7\": \"OTHER\"},\n",
    "        \"LIT\": {\"1\": \"NUMBER\", \"2\": \"NUMBER\", \"3\": \"STRING\", \"4\": \"NUMBER\", \"5\": \"STRING\"},\n",
    "        \"IGNORED\": [\"6\", \"9\", \"10\", \"7\", \"8\"],\n",
    "    },\n",
    ")\n",
    "\n",
    "# Run the entity linking process\n",
    "tic = time.perf_counter()\n",
    "gator.run()\n",
    "toc = time.perf_counter()\n",
    "print(\"Elapsed time:\", toc - tic)\n",
    "print(\"Entity linking process completed.\")"
   ]
  },
  {
   "cell_type": "code",
   "execution_count": null,
   "metadata": {},
   "outputs": [],
   "source": [
    "import os\n",
    "\n",
    "from alligator.fetchers import ObjectFetcher, LiteralFetcher\n",
    "\n",
    "object_retrieval_endpoint = os.environ[\"OBJECT_RETRIEVAL_ENDPOINT\"]\n",
    "literal_retrieval_endpoint = os.environ[\"LITERAL_RETRIEVAL_ENDPOINT\"]\n",
    "entity_retrieval_token = os.environ[\"ENTITY_RETRIEVAL_TOKEN\"]\n",
    "\n",
    "o = ObjectFetcher(object_retrieval_endpoint, entity_retrieval_token)\n",
    "objs = await o.fetch_objects([\"Q90\", \"Q60\"])\n",
    "\n",
    "l = LiteralFetcher(literal_retrieval_endpoint, entity_retrieval_token)\n",
    "lits = await l.fetch_literals([\"Q90\"])\n",
    "\n",
    "print(objs)\n",
    "print(lits)"
   ]
  },
  {
   "cell_type": "code",
   "execution_count": null,
   "metadata": {},
   "outputs": [],
   "source": []
  }
 ],
 "metadata": {
  "kernelspec": {
   "display_name": "Python 3 (ipykernel)",
   "language": "python",
   "name": "python3"
  },
  "language_info": {
   "codemirror_mode": {
    "name": "ipython",
    "version": 3
   },
   "file_extension": ".py",
   "mimetype": "text/x-python",
   "name": "python",
   "nbconvert_exporter": "python",
   "pygments_lexer": "ipython3",
   "version": "3.11.6"
  }
 },
 "nbformat": 4,
 "nbformat_minor": 4
}
